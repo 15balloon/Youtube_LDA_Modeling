{
  "nbformat": 4,
  "nbformat_minor": 0,
  "metadata": {
    "colab": {
      "name": "Project_Preprocessing.ipynb",
      "provenance": [],
      "collapsed_sections": []
    },
    "kernelspec": {
      "name": "python3",
      "display_name": "Python 3"
    },
    "language_info": {
      "name": "python"
    },
    "accelerator": "TPU"
  },
  "cells": [
    {
      "cell_type": "code",
      "metadata": {
        "colab": {
          "base_uri": "https://localhost:8080/"
        },
        "id": "T0DrZxFbAOZ_",
        "outputId": "fce3fb06-36eb-450e-956a-06631fae22e4"
      },
      "source": [
        "#konlpy 설치\n",
        "!pip install konlpy"
      ],
      "execution_count": null,
      "outputs": [
        {
          "output_type": "stream",
          "text": [
            "Collecting konlpy\n",
            "\u001b[?25l  Downloading https://files.pythonhosted.org/packages/85/0e/f385566fec837c0b83f216b2da65db9997b35dd675e107752005b7d392b1/konlpy-0.5.2-py2.py3-none-any.whl (19.4MB)\n",
            "\u001b[K     |████████████████████████████████| 19.4MB 1.4MB/s \n",
            "\u001b[?25hCollecting beautifulsoup4==4.6.0\n",
            "\u001b[?25l  Downloading https://files.pythonhosted.org/packages/9e/d4/10f46e5cfac773e22707237bfcd51bbffeaf0a576b0a847ec7ab15bd7ace/beautifulsoup4-4.6.0-py3-none-any.whl (86kB)\n",
            "\u001b[K     |████████████████████████████████| 92kB 8.4MB/s \n",
            "\u001b[?25hCollecting colorama\n",
            "  Downloading https://files.pythonhosted.org/packages/44/98/5b86278fbbf250d239ae0ecb724f8572af1c91f4a11edf4d36a206189440/colorama-0.4.4-py2.py3-none-any.whl\n",
            "Requirement already satisfied: tweepy>=3.7.0 in /usr/local/lib/python3.7/dist-packages (from konlpy) (3.10.0)\n",
            "Requirement already satisfied: lxml>=4.1.0 in /usr/local/lib/python3.7/dist-packages (from konlpy) (4.2.6)\n",
            "Requirement already satisfied: numpy>=1.6 in /usr/local/lib/python3.7/dist-packages (from konlpy) (1.19.5)\n",
            "Collecting JPype1>=0.7.0\n",
            "\u001b[?25l  Downloading https://files.pythonhosted.org/packages/cd/a5/9781e2ef4ca92d09912c4794642c1653aea7607f473e156cf4d423a881a1/JPype1-1.2.1-cp37-cp37m-manylinux2010_x86_64.whl (457kB)\n",
            "\u001b[K     |████████████████████████████████| 460kB 38.8MB/s \n",
            "\u001b[?25hRequirement already satisfied: requests[socks]>=2.11.1 in /usr/local/lib/python3.7/dist-packages (from tweepy>=3.7.0->konlpy) (2.23.0)\n",
            "Requirement already satisfied: six>=1.10.0 in /usr/local/lib/python3.7/dist-packages (from tweepy>=3.7.0->konlpy) (1.15.0)\n",
            "Requirement already satisfied: requests-oauthlib>=0.7.0 in /usr/local/lib/python3.7/dist-packages (from tweepy>=3.7.0->konlpy) (1.3.0)\n",
            "Requirement already satisfied: typing-extensions; python_version < \"3.8\" in /usr/local/lib/python3.7/dist-packages (from JPype1>=0.7.0->konlpy) (3.7.4.3)\n",
            "Requirement already satisfied: idna<3,>=2.5 in /usr/local/lib/python3.7/dist-packages (from requests[socks]>=2.11.1->tweepy>=3.7.0->konlpy) (2.10)\n",
            "Requirement already satisfied: urllib3!=1.25.0,!=1.25.1,<1.26,>=1.21.1 in /usr/local/lib/python3.7/dist-packages (from requests[socks]>=2.11.1->tweepy>=3.7.0->konlpy) (1.24.3)\n",
            "Requirement already satisfied: chardet<4,>=3.0.2 in /usr/local/lib/python3.7/dist-packages (from requests[socks]>=2.11.1->tweepy>=3.7.0->konlpy) (3.0.4)\n",
            "Requirement already satisfied: certifi>=2017.4.17 in /usr/local/lib/python3.7/dist-packages (from requests[socks]>=2.11.1->tweepy>=3.7.0->konlpy) (2020.12.5)\n",
            "Requirement already satisfied: PySocks!=1.5.7,>=1.5.6; extra == \"socks\" in /usr/local/lib/python3.7/dist-packages (from requests[socks]>=2.11.1->tweepy>=3.7.0->konlpy) (1.7.1)\n",
            "Requirement already satisfied: oauthlib>=3.0.0 in /usr/local/lib/python3.7/dist-packages (from requests-oauthlib>=0.7.0->tweepy>=3.7.0->konlpy) (3.1.0)\n",
            "Installing collected packages: beautifulsoup4, colorama, JPype1, konlpy\n",
            "  Found existing installation: beautifulsoup4 4.6.3\n",
            "    Uninstalling beautifulsoup4-4.6.3:\n",
            "      Successfully uninstalled beautifulsoup4-4.6.3\n",
            "Successfully installed JPype1-1.2.1 beautifulsoup4-4.6.0 colorama-0.4.4 konlpy-0.5.2\n"
          ],
          "name": "stdout"
        }
      ]
    },
    {
      "cell_type": "code",
      "metadata": {
        "id": "p97mSTnF3A9l",
        "colab": {
          "base_uri": "https://localhost:8080/"
        },
        "outputId": "9abcbc15-e2f2-405e-accf-825d6969eeda"
      },
      "source": [
        "from google.colab import files\n",
        "from konlpy.tag import Komoran\n",
        "import pandas as pd\n",
        "import re\n",
        "from tqdm import tqdm\n",
        "\n",
        "tqdm.pandas()"
      ],
      "execution_count": null,
      "outputs": [
        {
          "output_type": "stream",
          "text": [
            "/usr/local/lib/python3.7/dist-packages/tqdm/std.py:658: FutureWarning: The Panel class is removed from pandas. Accessing it from the top-level namespace will also be removed in the next version\n",
            "  from pandas import Panel\n"
          ],
          "name": "stderr"
        }
      ]
    },
    {
      "cell_type": "code",
      "metadata": {
        "id": "rixPFu783Gwd",
        "colab": {
          "base_uri": "https://localhost:8080/",
          "height": 195
        },
        "outputId": "ac73b946-c79e-4d2e-908d-581589365188"
      },
      "source": [
        "comments = pd.read_pickle('/content/commentList.pickle')\n",
        "comments.head()"
      ],
      "execution_count": null,
      "outputs": [
        {
          "output_type": "execute_result",
          "data": {
            "text/html": [
              "<div>\n",
              "<style scoped>\n",
              "    .dataframe tbody tr th:only-of-type {\n",
              "        vertical-align: middle;\n",
              "    }\n",
              "\n",
              "    .dataframe tbody tr th {\n",
              "        vertical-align: top;\n",
              "    }\n",
              "\n",
              "    .dataframe thead th {\n",
              "        text-align: right;\n",
              "    }\n",
              "</style>\n",
              "<table border=\"1\" class=\"dataframe\">\n",
              "  <thead>\n",
              "    <tr style=\"text-align: right;\">\n",
              "      <th></th>\n",
              "      <th>title</th>\n",
              "      <th>author</th>\n",
              "      <th>comment</th>\n",
              "      <th>like</th>\n",
              "    </tr>\n",
              "  </thead>\n",
              "  <tbody>\n",
              "    <tr>\n",
              "      <th>0</th>\n",
              "      <td>[B대면데이트]#1. 첫번째 데이트 방재호/33/다단계</td>\n",
              "      <td>피식대학Psick Univ</td>\n",
              "      <td>B대면데이트 첫번째 소개팅남&lt;br /&gt;방재호 instagram@BJH_Dreamlife</td>\n",
              "      <td>592</td>\n",
              "    </tr>\n",
              "    <tr>\n",
              "      <th>1</th>\n",
              "      <td>[B대면데이트]#1. 첫번째 데이트 방재호/33/다단계</td>\n",
              "      <td>으앙</td>\n",
              "      <td>처음만났는데 대체 제얘기는 언제해요.... ㅜㅜ</td>\n",
              "      <td>0</td>\n",
              "    </tr>\n",
              "    <tr>\n",
              "      <th>2</th>\n",
              "      <td>[B대면데이트]#1. 첫번째 데이트 방재호/33/다단계</td>\n",
              "      <td>Do it</td>\n",
              "      <td>광용샘....</td>\n",
              "      <td>0</td>\n",
              "    </tr>\n",
              "    <tr>\n",
              "      <th>3</th>\n",
              "      <td>[B대면데이트]#1. 첫번째 데이트 방재호/33/다단계</td>\n",
              "      <td>말랑말랑</td>\n",
              "      <td>저 이마의 끝이 어딜까...</td>\n",
              "      <td>1</td>\n",
              "    </tr>\n",
              "    <tr>\n",
              "      <th>4</th>\n",
              "      <td>[B대면데이트]#1. 첫번째 데이트 방재호/33/다단계</td>\n",
              "      <td>진성</td>\n",
              "      <td>근데 피부는 진짜 나쁘지 않ㄴ네</td>\n",
              "      <td>0</td>\n",
              "    </tr>\n",
              "  </tbody>\n",
              "</table>\n",
              "</div>"
            ],
            "text/plain": [
              "                            title  ... like\n",
              "0  [B대면데이트]#1. 첫번째 데이트 방재호/33/다단계  ...  592\n",
              "1  [B대면데이트]#1. 첫번째 데이트 방재호/33/다단계  ...    0\n",
              "2  [B대면데이트]#1. 첫번째 데이트 방재호/33/다단계  ...    0\n",
              "3  [B대면데이트]#1. 첫번째 데이트 방재호/33/다단계  ...    1\n",
              "4  [B대면데이트]#1. 첫번째 데이트 방재호/33/다단계  ...    0\n",
              "\n",
              "[5 rows x 4 columns]"
            ]
          },
          "metadata": {
            "tags": []
          },
          "execution_count": 2
        }
      ]
    },
    {
      "cell_type": "code",
      "metadata": {
        "id": "W7aT7Pif_Rmw"
      },
      "source": [
        "comments_character = comments.copy()\n",
        "comments_character['character'] = comments['title'].str.findall(re.compile('트 ([가-힣]+?)/')).str[0]"
      ],
      "execution_count": null,
      "outputs": []
    },
    {
      "cell_type": "code",
      "metadata": {
        "id": "ljVJ8XbhhMmK"
      },
      "source": [
        "comments_character.to_pickle('comments_character.pickle')\n",
        "comments_character.to_csv('comments_character.csv', encoding='utf-8-sig')"
      ],
      "execution_count": null,
      "outputs": []
    },
    {
      "cell_type": "code",
      "metadata": {
        "id": "EvKa6J45kObB"
      },
      "source": [
        "comments_character = pd.read_pickle('/content/comments_character.pickle')"
      ],
      "execution_count": null,
      "outputs": []
    },
    {
      "cell_type": "code",
      "metadata": {
        "colab": {
          "base_uri": "https://localhost:8080/"
        },
        "id": "Cxum7-0Rk9GQ",
        "outputId": "72557dcb-0dda-4d57-edea-9d070d4f8b28"
      },
      "source": [
        "comments_character['comment'][15:20]"
      ],
      "execution_count": null,
      "outputs": [
        {
          "output_type": "execute_result",
          "data": {
            "text/plain": [
              "15                      귀여워요 방!재!호♡\n",
              "16    ❤️❤️당신을 사랑하는 !🥺 🥵💕너무 뜨거운 🤢😻 🥵\n",
              "17     눈썹때매 집중이안되요.... 눈썹그려주고 싶다...\n",
              "18        \\  _  / 눈이 이렇게 올라가있어.....\n",
              "19                   연기력 미쳤다 진짜...♡\n",
              "Name: comment, dtype: object"
            ]
          },
          "metadata": {
            "tags": []
          },
          "execution_count": 6
        }
      ]
    },
    {
      "cell_type": "code",
      "metadata": {
        "id": "ktsyhdzR97dR"
      },
      "source": [
        "tokenizer = Komoran() # global variable\n",
        "\n",
        "def text_cleaning(doc):\n",
        "  text = doc.replace('<br />', ' ')\n",
        "  text = re.sub('&.+?;', ' ', text) # &quot; / &lt; / &gt; / &#39;\n",
        "  text = re.sub('<a.+?/a>', '', text)\n",
        "  text = re.sub('[^가-힣0-9a-zA-Z,\\.\\s]', '', string = text).strip()\n",
        "  return text\n",
        "\n",
        "# 감탄사(IC), 형용사(VA), 일반명사(NNG), 고유명사(NNP), 외국어(SL)\n",
        "\n",
        "def text_preprocess(doc):\n",
        "  # 텍스트 전처리\n",
        "  clean_doc =  text_cleaning(doc)\n",
        "  \n",
        "  # 품사 붙이기\n",
        "  token_tagged = tokenizer.pos(clean_doc)\n",
        "\n",
        "  # 추출\n",
        "  words = [s for s, t in token_tagged if t in ['IC', 'VA', 'SL', 'NNG', 'NNP'] and len(s) > 1]\n",
        "\n",
        "  # 한 문장으로 합치기 \n",
        "  preprocessed = ' '.join(words)\n",
        "  return preprocessed\n",
        "\n",
        "def download(df_file):\n",
        "  file_name = 'comments_prep_full'\n",
        "  df_file.to_pickle(file_name + '.pickle')\n",
        "  df_file.to_csv(file_name + '.csv', encoding='utf-8-sig')\n",
        "  files.download(file_name + '.pickle')\n",
        "  files.download(file_name + '.csv')"
      ],
      "execution_count": null,
      "outputs": []
    },
    {
      "cell_type": "code",
      "metadata": {
        "id": "CzM8IWqCa80h",
        "colab": {
          "base_uri": "https://localhost:8080/"
        },
        "outputId": "bb892e77-e426-4f55-c3ff-39de002db80a"
      },
      "source": [
        "comments_character['prep'] = comments_character['comment'].progress_apply(lambda x: text_preprocess(x))"
      ],
      "execution_count": null,
      "outputs": [
        {
          "output_type": "stream",
          "text": [
            "100%|██████████| 64400/64400 [00:37<00:00, 1724.35it/s]\n"
          ],
          "name": "stderr"
        }
      ]
    },
    {
      "cell_type": "code",
      "metadata": {
        "colab": {
          "base_uri": "https://localhost:8080/",
          "height": 195
        },
        "id": "TVVKniU_ld8Q",
        "outputId": "ccae1340-ed5d-40af-98de-7d3830c72839"
      },
      "source": [
        "comments_character[15:20]"
      ],
      "execution_count": null,
      "outputs": [
        {
          "output_type": "execute_result",
          "data": {
            "text/html": [
              "<div>\n",
              "<style scoped>\n",
              "    .dataframe tbody tr th:only-of-type {\n",
              "        vertical-align: middle;\n",
              "    }\n",
              "\n",
              "    .dataframe tbody tr th {\n",
              "        vertical-align: top;\n",
              "    }\n",
              "\n",
              "    .dataframe thead th {\n",
              "        text-align: right;\n",
              "    }\n",
              "</style>\n",
              "<table border=\"1\" class=\"dataframe\">\n",
              "  <thead>\n",
              "    <tr style=\"text-align: right;\">\n",
              "      <th></th>\n",
              "      <th>title</th>\n",
              "      <th>author</th>\n",
              "      <th>comment</th>\n",
              "      <th>like</th>\n",
              "      <th>character</th>\n",
              "      <th>prep</th>\n",
              "    </tr>\n",
              "  </thead>\n",
              "  <tbody>\n",
              "    <tr>\n",
              "      <th>15</th>\n",
              "      <td>[B대면데이트]#1. 첫번째 데이트 방재호/33/다단계</td>\n",
              "      <td>사경주</td>\n",
              "      <td>귀여워요 방!재!호♡</td>\n",
              "      <td>0</td>\n",
              "      <td>방재호</td>\n",
              "      <td>귀엽 방재</td>\n",
              "    </tr>\n",
              "    <tr>\n",
              "      <th>16</th>\n",
              "      <td>[B대면데이트]#1. 첫번째 데이트 방재호/33/다단계</td>\n",
              "      <td>신효섭꿀성대</td>\n",
              "      <td>❤️❤️당신을 사랑하는 !🥺 🥵💕너무 뜨거운 🤢😻 🥵</td>\n",
              "      <td>0</td>\n",
              "      <td>방재호</td>\n",
              "      <td>사랑 뜨겁</td>\n",
              "    </tr>\n",
              "    <tr>\n",
              "      <th>17</th>\n",
              "      <td>[B대면데이트]#1. 첫번째 데이트 방재호/33/다단계</td>\n",
              "      <td>배주안</td>\n",
              "      <td>눈썹때매 집중이안되요.... 눈썹그려주고 싶다...</td>\n",
              "      <td>0</td>\n",
              "      <td>방재호</td>\n",
              "      <td>눈썹 집중 이안 눈썹</td>\n",
              "    </tr>\n",
              "    <tr>\n",
              "      <th>18</th>\n",
              "      <td>[B대면데이트]#1. 첫번째 데이트 방재호/33/다단계</td>\n",
              "      <td>소금sogum</td>\n",
              "      <td>\\  _  / 눈이 이렇게 올라가있어.....</td>\n",
              "      <td>1</td>\n",
              "      <td>방재호</td>\n",
              "      <td>이렇</td>\n",
              "    </tr>\n",
              "    <tr>\n",
              "      <th>19</th>\n",
              "      <td>[B대면데이트]#1. 첫번째 데이트 방재호/33/다단계</td>\n",
              "      <td>sk lee</td>\n",
              "      <td>연기력 미쳤다 진짜...♡</td>\n",
              "      <td>0</td>\n",
              "      <td>방재호</td>\n",
              "      <td>연기력 진짜</td>\n",
              "    </tr>\n",
              "  </tbody>\n",
              "</table>\n",
              "</div>"
            ],
            "text/plain": [
              "                             title   author  ... character         prep\n",
              "15  [B대면데이트]#1. 첫번째 데이트 방재호/33/다단계      사경주  ...       방재호        귀엽 방재\n",
              "16  [B대면데이트]#1. 첫번째 데이트 방재호/33/다단계   신효섭꿀성대  ...       방재호        사랑 뜨겁\n",
              "17  [B대면데이트]#1. 첫번째 데이트 방재호/33/다단계      배주안  ...       방재호  눈썹 집중 이안 눈썹\n",
              "18  [B대면데이트]#1. 첫번째 데이트 방재호/33/다단계  소금sogum  ...       방재호           이렇\n",
              "19  [B대면데이트]#1. 첫번째 데이트 방재호/33/다단계   sk lee  ...       방재호       연기력 진짜\n",
              "\n",
              "[5 rows x 6 columns]"
            ]
          },
          "metadata": {
            "tags": []
          },
          "execution_count": 9
        }
      ]
    },
    {
      "cell_type": "code",
      "metadata": {
        "colab": {
          "base_uri": "https://localhost:8080/",
          "height": 17
        },
        "id": "NvftPZQr9FlN",
        "outputId": "af633a6d-b46a-44a7-8165-1285b081c991"
      },
      "source": [
        "download(comments_character)"
      ],
      "execution_count": null,
      "outputs": [
        {
          "output_type": "display_data",
          "data": {
            "application/javascript": [
              "\n",
              "    async function download(id, filename, size) {\n",
              "      if (!google.colab.kernel.accessAllowed) {\n",
              "        return;\n",
              "      }\n",
              "      const div = document.createElement('div');\n",
              "      const label = document.createElement('label');\n",
              "      label.textContent = `Downloading \"${filename}\": `;\n",
              "      div.appendChild(label);\n",
              "      const progress = document.createElement('progress');\n",
              "      progress.max = size;\n",
              "      div.appendChild(progress);\n",
              "      document.body.appendChild(div);\n",
              "\n",
              "      const buffers = [];\n",
              "      let downloaded = 0;\n",
              "\n",
              "      const channel = await google.colab.kernel.comms.open(id);\n",
              "      // Send a message to notify the kernel that we're ready.\n",
              "      channel.send({})\n",
              "\n",
              "      for await (const message of channel.messages) {\n",
              "        // Send a message to notify the kernel that we're ready.\n",
              "        channel.send({})\n",
              "        if (message.buffers) {\n",
              "          for (const buffer of message.buffers) {\n",
              "            buffers.push(buffer);\n",
              "            downloaded += buffer.byteLength;\n",
              "            progress.value = downloaded;\n",
              "          }\n",
              "        }\n",
              "      }\n",
              "      const blob = new Blob(buffers, {type: 'application/binary'});\n",
              "      const a = document.createElement('a');\n",
              "      a.href = window.URL.createObjectURL(blob);\n",
              "      a.download = filename;\n",
              "      div.appendChild(a);\n",
              "      a.click();\n",
              "      div.remove();\n",
              "    }\n",
              "  "
            ],
            "text/plain": [
              "<IPython.core.display.Javascript object>"
            ]
          },
          "metadata": {
            "tags": []
          }
        },
        {
          "output_type": "display_data",
          "data": {
            "application/javascript": [
              "download(\"download_fc0d4a4e-dafd-4916-b651-40b69bd5d243\", \"comments_prep_full.pickle\", 9519768)"
            ],
            "text/plain": [
              "<IPython.core.display.Javascript object>"
            ]
          },
          "metadata": {
            "tags": []
          }
        },
        {
          "output_type": "display_data",
          "data": {
            "application/javascript": [
              "\n",
              "    async function download(id, filename, size) {\n",
              "      if (!google.colab.kernel.accessAllowed) {\n",
              "        return;\n",
              "      }\n",
              "      const div = document.createElement('div');\n",
              "      const label = document.createElement('label');\n",
              "      label.textContent = `Downloading \"${filename}\": `;\n",
              "      div.appendChild(label);\n",
              "      const progress = document.createElement('progress');\n",
              "      progress.max = size;\n",
              "      div.appendChild(progress);\n",
              "      document.body.appendChild(div);\n",
              "\n",
              "      const buffers = [];\n",
              "      let downloaded = 0;\n",
              "\n",
              "      const channel = await google.colab.kernel.comms.open(id);\n",
              "      // Send a message to notify the kernel that we're ready.\n",
              "      channel.send({})\n",
              "\n",
              "      for await (const message of channel.messages) {\n",
              "        // Send a message to notify the kernel that we're ready.\n",
              "        channel.send({})\n",
              "        if (message.buffers) {\n",
              "          for (const buffer of message.buffers) {\n",
              "            buffers.push(buffer);\n",
              "            downloaded += buffer.byteLength;\n",
              "            progress.value = downloaded;\n",
              "          }\n",
              "        }\n",
              "      }\n",
              "      const blob = new Blob(buffers, {type: 'application/binary'});\n",
              "      const a = document.createElement('a');\n",
              "      a.href = window.URL.createObjectURL(blob);\n",
              "      a.download = filename;\n",
              "      div.appendChild(a);\n",
              "      a.click();\n",
              "      div.remove();\n",
              "    }\n",
              "  "
            ],
            "text/plain": [
              "<IPython.core.display.Javascript object>"
            ]
          },
          "metadata": {
            "tags": []
          }
        },
        {
          "output_type": "display_data",
          "data": {
            "application/javascript": [
              "download(\"download_39e0c384-15e8-464d-bbe4-8066f94b8a01\", \"comments_prep_full.csv\", 13283493)"
            ],
            "text/plain": [
              "<IPython.core.display.Javascript object>"
            ]
          },
          "metadata": {
            "tags": []
          }
        }
      ]
    }
  ]
}