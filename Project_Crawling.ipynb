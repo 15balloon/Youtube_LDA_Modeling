{
  "nbformat": 4,
  "nbformat_minor": 0,
  "metadata": {
    "colab": {
      "name": "Project_Crawling.ipynb",
      "provenance": [],
      "collapsed_sections": []
    },
    "kernelspec": {
      "name": "python3",
      "display_name": "Python 3"
    },
    "language_info": {
      "name": "python"
    }
  },
  "cells": [
    {
      "cell_type": "code",
      "metadata": {
        "id": "SnJryt-OZTeL"
      },
      "source": [
        "from googleapiclient.discovery import build\n",
        "from googleapiclient.errors import HttpError\n",
        "from tqdm import tqdm\n",
        "import pandas as pd\n",
        "import time"
      ],
      "execution_count": null,
      "outputs": []
    },
    {
      "cell_type": "code",
      "metadata": {
        "id": "5YwBMuXzUBEf"
      },
      "source": [
        "youtube_api_service_name = 'youtube'\n",
        "youtube_api_version = 'v3'\n",
        "Youtube_key = ''\n",
        "\n",
        "yt = build(youtube_api_service_name, youtube_api_version, developerKey=Youtube_key)"
      ],
      "execution_count": null,
      "outputs": []
    },
    {
      "cell_type": "code",
      "metadata": {
        "id": "oUmujDtvacAZ"
      },
      "source": [
        "channelId_search = yt.search().list(\n",
        "  part=\"id\",\n",
        "  type='channel',\n",
        "  q='피식대학Psick Univ',\n",
        "  maxResults=1\n",
        ").execute()"
      ],
      "execution_count": null,
      "outputs": []
    },
    {
      "cell_type": "code",
      "metadata": {
        "id": "QnzCopffYtkH"
      },
      "source": [
        "channel_id = channelId_search['items'][0]['id']['channelId']"
      ],
      "execution_count": null,
      "outputs": []
    },
    {
      "cell_type": "code",
      "metadata": {
        "id": "0KbW24wroUP8"
      },
      "source": [
        "# channel_id = 'UCGX5sP4ehBkihHwt5bs5wvg'"
      ],
      "execution_count": null,
      "outputs": []
    },
    {
      "cell_type": "code",
      "metadata": {
        "id": "q4bliGRKNZ2F"
      },
      "source": [
        "playlists_search = yt.playlists().list(\n",
        "  part=\"snippet\",\n",
        "  channelId=channel_id,\n",
        "  maxResults=10\n",
        ").execute()"
      ],
      "execution_count": null,
      "outputs": []
    },
    {
      "cell_type": "code",
      "metadata": {
        "id": "9mEnrj5GOJjW"
      },
      "source": [
        "playlists = list()\n",
        "for playlist in playlists_search['items']:\n",
        "  title = playlist['snippet']['title']\n",
        "  link = playlist['id']\n",
        "  playlists.append([title, link])\n",
        "df_playlists = pd.DataFrame(playlists, dtype='string')\n",
        "df_playlists.columns = ['title', 'link']"
      ],
      "execution_count": null,
      "outputs": []
    },
    {
      "cell_type": "code",
      "metadata": {
        "id": "C4980fwWQ6-7"
      },
      "source": [
        "playlist_id = df_playlists[df_playlists['title'].str.contains('B대면데이트')]['link'][0]"
      ],
      "execution_count": null,
      "outputs": []
    },
    {
      "cell_type": "code",
      "metadata": {
        "id": "vlN6dgl4oY45"
      },
      "source": [
        "# playlist_id = 'PL1nP78IpsXsPKz4hVXhq4wRJK3kKgJSdp'"
      ],
      "execution_count": null,
      "outputs": []
    },
    {
      "cell_type": "code",
      "metadata": {
        "id": "hQBjeESOZN8d"
      },
      "source": [
        "videos_search = yt.playlistItems().list(\n",
        "    part=\"snippet\",\n",
        "    playlistId=playlist_id,\n",
        "    maxResults=50\n",
        ").execute()"
      ],
      "execution_count": null,
      "outputs": []
    },
    {
      "cell_type": "code",
      "metadata": {
        "id": "ygVpRi7iZwJh"
      },
      "source": [
        "videolists = list()\n",
        "for video in videos_search['items']:\n",
        "  title = video['snippet']['title']\n",
        "  link = video['snippet']['resourceId']['videoId']\n",
        "  videolists.append([title, link])\n",
        "df_videolists = pd.DataFrame(videolists, dtype='string')\n",
        "df_videolists.columns = ['title', 'link']"
      ],
      "execution_count": null,
      "outputs": []
    },
    {
      "cell_type": "code",
      "metadata": {
        "id": "snnxF8aKoevJ"
      },
      "source": [
        "df_videolists.to_pickle('videoList.pickle')"
      ],
      "execution_count": null,
      "outputs": []
    },
    {
      "cell_type": "code",
      "metadata": {
        "id": "0Czm_sh988FL"
      },
      "source": [
        "df_videolists.to_csv('videoList.csv', encoding='utf-8-sig')"
      ],
      "execution_count": null,
      "outputs": []
    },
    {
      "cell_type": "code",
      "metadata": {
        "id": "l4WKMMUJpFg5"
      },
      "source": [
        "df_videolists = pd.read_pickle('/content/videoList.pickle')"
      ],
      "execution_count": null,
      "outputs": []
    },
    {
      "cell_type": "code",
      "metadata": {
        "colab": {
          "base_uri": "https://localhost:8080/",
          "height": 1000
        },
        "id": "HUQ9TOZTomuN",
        "outputId": "984b5c4f-76af-4c3a-f47a-39f007df8a79"
      },
      "source": [
        "df_videolists"
      ],
      "execution_count": null,
      "outputs": [
        {
          "output_type": "execute_result",
          "data": {
            "text/html": [
              "<div>\n",
              "<style scoped>\n",
              "    .dataframe tbody tr th:only-of-type {\n",
              "        vertical-align: middle;\n",
              "    }\n",
              "\n",
              "    .dataframe tbody tr th {\n",
              "        vertical-align: top;\n",
              "    }\n",
              "\n",
              "    .dataframe thead th {\n",
              "        text-align: right;\n",
              "    }\n",
              "</style>\n",
              "<table border=\"1\" class=\"dataframe\">\n",
              "  <thead>\n",
              "    <tr style=\"text-align: right;\">\n",
              "      <th></th>\n",
              "      <th>title</th>\n",
              "      <th>link</th>\n",
              "    </tr>\n",
              "  </thead>\n",
              "  <tbody>\n",
              "    <tr>\n",
              "      <th>0</th>\n",
              "      <td>[B대면데이트] 출연자 인터뷰</td>\n",
              "      <td>3JXqTdfQ33A</td>\n",
              "    </tr>\n",
              "    <tr>\n",
              "      <th>1</th>\n",
              "      <td>[B대면데이트]#1. 첫번째 데이트 방재호/33/다단계</td>\n",
              "      <td>MsA4hwBCilw</td>\n",
              "    </tr>\n",
              "    <tr>\n",
              "      <th>2</th>\n",
              "      <td>[B대면데이트]#1. 첫번째 데이트 최준/34/카페사장</td>\n",
              "      <td>xtuy9Imuspc</td>\n",
              "    </tr>\n",
              "    <tr>\n",
              "      <th>3</th>\n",
              "      <td>[B대면데이트]#1. 첫번째 데이트 차진석/35/중고차딜러</td>\n",
              "      <td>eAbUKSWL5HU</td>\n",
              "    </tr>\n",
              "    <tr>\n",
              "      <th>4</th>\n",
              "      <td>[B대면데이트]#1. 첫번째 데이트 임플란티드키드/23/래퍼</td>\n",
              "      <td>yEIqkgOczgQ</td>\n",
              "    </tr>\n",
              "    <tr>\n",
              "      <th>5</th>\n",
              "      <td>[B대면데이트]#2. 두번째 데이트 방재호/33/다단계</td>\n",
              "      <td>HWx1mN5V8uU</td>\n",
              "    </tr>\n",
              "    <tr>\n",
              "      <th>6</th>\n",
              "      <td>[B대면데이트]#2. 두번째 데이트 최준/34/카페사장</td>\n",
              "      <td>8KajjOOtm2U</td>\n",
              "    </tr>\n",
              "    <tr>\n",
              "      <th>7</th>\n",
              "      <td>[B대면데이트]#2. 두번째 데이트 차진석/35/중고차딜러</td>\n",
              "      <td>xwEXbYrHtfg</td>\n",
              "    </tr>\n",
              "    <tr>\n",
              "      <th>8</th>\n",
              "      <td>[B대면데이트]#2. 두번째 데이트 임플란티드키드/23/래퍼</td>\n",
              "      <td>_jmPv_3uE7c</td>\n",
              "    </tr>\n",
              "    <tr>\n",
              "      <th>9</th>\n",
              "      <td>[B대면데이트]크리스마스를 함께하고싶은 네 남자의 속마음</td>\n",
              "      <td>VdYthiOfdWE</td>\n",
              "    </tr>\n",
              "    <tr>\n",
              "      <th>10</th>\n",
              "      <td>[B대면데이트]#3. 퇴근길 데이트 방재호/33/다단계</td>\n",
              "      <td>X-cOkRf2iqs</td>\n",
              "    </tr>\n",
              "    <tr>\n",
              "      <th>11</th>\n",
              "      <td>[B대면데이트]#3. 퇴근길 데이트 최준/35/카페사장</td>\n",
              "      <td>ttUsNTb8fSo</td>\n",
              "    </tr>\n",
              "    <tr>\n",
              "      <th>12</th>\n",
              "      <td>[B대면데이트]#3. 퇴근길 데이트 차진석/36/중고차딜러</td>\n",
              "      <td>Bz92772Ijbs</td>\n",
              "    </tr>\n",
              "    <tr>\n",
              "      <th>13</th>\n",
              "      <td>[B대면데이트]#3. 퇴근길 데이트 임플란티드키드/24/래퍼</td>\n",
              "      <td>uFdtP_SVs-A</td>\n",
              "    </tr>\n",
              "    <tr>\n",
              "      <th>14</th>\n",
              "      <td>[B대면데이트]2:1데이트 | 최준 방재호</td>\n",
              "      <td>bnGiNdl69tw</td>\n",
              "    </tr>\n",
              "    <tr>\n",
              "      <th>15</th>\n",
              "      <td>[B대면데이트]2:1데이트 | 차진석 임플란티드키드</td>\n",
              "      <td>5cbW99p8wiY</td>\n",
              "    </tr>\n",
              "    <tr>\n",
              "      <th>16</th>\n",
              "      <td>[B대면데이트]2:1데이트 | 방재호 임플란티드키드</td>\n",
              "      <td>3J59eyIZpYY</td>\n",
              "    </tr>\n",
              "    <tr>\n",
              "      <th>17</th>\n",
              "      <td>[B대면데이트]2:1데이트 | 최준 차진석</td>\n",
              "      <td>w75AWyTAtQU</td>\n",
              "    </tr>\n",
              "    <tr>\n",
              "      <th>18</th>\n",
              "      <td>[B대면데이트]2:1데이트 | 방재호 차진석</td>\n",
              "      <td>vgKN3WTQ-vw</td>\n",
              "    </tr>\n",
              "    <tr>\n",
              "      <th>19</th>\n",
              "      <td>[B대면데이트]2:1데이트 | 임플란티드키드 최준</td>\n",
              "      <td>M_4gyEsvKT0</td>\n",
              "    </tr>\n",
              "    <tr>\n",
              "      <th>20</th>\n",
              "      <td>[B대면데이트]#1. 첫번째 데이트 이호창/34/재벌3세</td>\n",
              "      <td>CL0Z4yZVVWs</td>\n",
              "    </tr>\n",
              "    <tr>\n",
              "      <th>21</th>\n",
              "      <td>[최준의니곡내곡] 최준 - 별 보러 가자(feat.적재)LIVE</td>\n",
              "      <td>RK0t9JAelZU</td>\n",
              "    </tr>\n",
              "    <tr>\n",
              "      <th>22</th>\n",
              "      <td>2021 김갑생할머니김 이호창 미래전략실 전략본부장 설인사(대외비)</td>\n",
              "      <td>JdWDtjMwXYQ</td>\n",
              "    </tr>\n",
              "    <tr>\n",
              "      <th>23</th>\n",
              "      <td>[B대면데이트] 최준 - 커피한잔할래요(원곡:폴킴)</td>\n",
              "      <td>OYQqlGzz6Cg</td>\n",
              "    </tr>\n",
              "    <tr>\n",
              "      <th>24</th>\n",
              "      <td>[B대면데이트]#4 네번째 대면데이트 방재호/34/다단계</td>\n",
              "      <td>EW02zL7lJtQ</td>\n",
              "    </tr>\n",
              "    <tr>\n",
              "      <th>25</th>\n",
              "      <td>[B대면데이트]#4 네번째 대면데이트 임플란티드키드/24/랩퍼</td>\n",
              "      <td>46wfTC8VB2s</td>\n",
              "    </tr>\n",
              "    <tr>\n",
              "      <th>26</th>\n",
              "      <td>[B대면데이트]#4 네번째 대면데이트 최준/35/카페사장</td>\n",
              "      <td>O7f8GveWENg</td>\n",
              "    </tr>\n",
              "    <tr>\n",
              "      <th>27</th>\n",
              "      <td>[B대면데이트]#2. 두번째 데이트 이호창/34/재벌3세</td>\n",
              "      <td>EFAZhU5YlrM</td>\n",
              "    </tr>\n",
              "    <tr>\n",
              "      <th>28</th>\n",
              "      <td>[B대면데이트]특별 데이트 태민/29/아이돌</td>\n",
              "      <td>W6fcKVZmsu0</td>\n",
              "    </tr>\n",
              "    <tr>\n",
              "      <th>29</th>\n",
              "      <td>[B대면데이트]#4 네번째 대면데이트 차진석/36/중고차딜러</td>\n",
              "      <td>YsCgtZIbjRw</td>\n",
              "    </tr>\n",
              "    <tr>\n",
              "      <th>30</th>\n",
              "      <td>[B대면데이트]#5 다섯번째 데이트 방재호/34/다단계</td>\n",
              "      <td>1_-fQlTEFNQ</td>\n",
              "    </tr>\n",
              "    <tr>\n",
              "      <th>31</th>\n",
              "      <td>[4K][최준의니곡내곡] 최준 - 너를 만나(feat.폴킴) LIVE</td>\n",
              "      <td>o4hOtLBOJwA</td>\n",
              "    </tr>\n",
              "    <tr>\n",
              "      <th>32</th>\n",
              "      <td>[단독]괴한 진압한 시민 영웅, 알고보니... 이호창 본부장 | PSN News</td>\n",
              "      <td>A_sZwaiVnIw</td>\n",
              "    </tr>\n",
              "    <tr>\n",
              "      <th>33</th>\n",
              "      <td>[B대면데이트]#5 다섯번째 식사데이트 임플란티드키드/24/래퍼</td>\n",
              "      <td>rOxijOeJeQg</td>\n",
              "    </tr>\n",
              "    <tr>\n",
              "      <th>34</th>\n",
              "      <td>[B대면데이트]#3. 세번째 데이트 이호창/34/재벌3세</td>\n",
              "      <td>Q-0WWlNL5pw</td>\n",
              "    </tr>\n",
              "    <tr>\n",
              "      <th>35</th>\n",
              "      <td>[4K][최준의니곡내곡] 최준 - 어떻게 이별까지 사랑하겠어,널 사랑하는 거지(fe...</td>\n",
              "      <td>_vU28jNLQ-8</td>\n",
              "    </tr>\n",
              "    <tr>\n",
              "      <th>36</th>\n",
              "      <td>[B대면데이트]#5 다섯번째 식사데이트 최준/35/카페사장</td>\n",
              "      <td>bv5RH8JedBw</td>\n",
              "    </tr>\n",
              "    <tr>\n",
              "      <th>37</th>\n",
              "      <td>[B대면데이트]#6 여섯번째 데이트 방재호/34/다단계</td>\n",
              "      <td>7eFzVmJdoA0</td>\n",
              "    </tr>\n",
              "  </tbody>\n",
              "</table>\n",
              "</div>"
            ],
            "text/plain": [
              "                                                title         link\n",
              "0                                    [B대면데이트] 출연자 인터뷰  3JXqTdfQ33A\n",
              "1                      [B대면데이트]#1. 첫번째 데이트 방재호/33/다단계  MsA4hwBCilw\n",
              "2                      [B대면데이트]#1. 첫번째 데이트 최준/34/카페사장  xtuy9Imuspc\n",
              "3                    [B대면데이트]#1. 첫번째 데이트 차진석/35/중고차딜러  eAbUKSWL5HU\n",
              "4                   [B대면데이트]#1. 첫번째 데이트 임플란티드키드/23/래퍼  yEIqkgOczgQ\n",
              "5                      [B대면데이트]#2. 두번째 데이트 방재호/33/다단계  HWx1mN5V8uU\n",
              "6                      [B대면데이트]#2. 두번째 데이트 최준/34/카페사장  8KajjOOtm2U\n",
              "7                    [B대면데이트]#2. 두번째 데이트 차진석/35/중고차딜러  xwEXbYrHtfg\n",
              "8                   [B대면데이트]#2. 두번째 데이트 임플란티드키드/23/래퍼  _jmPv_3uE7c\n",
              "9                     [B대면데이트]크리스마스를 함께하고싶은 네 남자의 속마음  VdYthiOfdWE\n",
              "10                     [B대면데이트]#3. 퇴근길 데이트 방재호/33/다단계  X-cOkRf2iqs\n",
              "11                     [B대면데이트]#3. 퇴근길 데이트 최준/35/카페사장  ttUsNTb8fSo\n",
              "12                   [B대면데이트]#3. 퇴근길 데이트 차진석/36/중고차딜러  Bz92772Ijbs\n",
              "13                  [B대면데이트]#3. 퇴근길 데이트 임플란티드키드/24/래퍼  uFdtP_SVs-A\n",
              "14                            [B대면데이트]2:1데이트 | 최준 방재호  bnGiNdl69tw\n",
              "15                       [B대면데이트]2:1데이트 | 차진석 임플란티드키드  5cbW99p8wiY\n",
              "16                       [B대면데이트]2:1데이트 | 방재호 임플란티드키드  3J59eyIZpYY\n",
              "17                            [B대면데이트]2:1데이트 | 최준 차진석  w75AWyTAtQU\n",
              "18                           [B대면데이트]2:1데이트 | 방재호 차진석  vgKN3WTQ-vw\n",
              "19                        [B대면데이트]2:1데이트 | 임플란티드키드 최준  M_4gyEsvKT0\n",
              "20                    [B대면데이트]#1. 첫번째 데이트 이호창/34/재벌3세  CL0Z4yZVVWs\n",
              "21                [최준의니곡내곡] 최준 - 별 보러 가자(feat.적재)LIVE  RK0t9JAelZU\n",
              "22              2021 김갑생할머니김 이호창 미래전략실 전략본부장 설인사(대외비)  JdWDtjMwXYQ\n",
              "23                       [B대면데이트] 최준 - 커피한잔할래요(원곡:폴킴)  OYQqlGzz6Cg\n",
              "24                    [B대면데이트]#4 네번째 대면데이트 방재호/34/다단계  EW02zL7lJtQ\n",
              "25                 [B대면데이트]#4 네번째 대면데이트 임플란티드키드/24/랩퍼  46wfTC8VB2s\n",
              "26                    [B대면데이트]#4 네번째 대면데이트 최준/35/카페사장  O7f8GveWENg\n",
              "27                    [B대면데이트]#2. 두번째 데이트 이호창/34/재벌3세  EFAZhU5YlrM\n",
              "28                           [B대면데이트]특별 데이트 태민/29/아이돌  W6fcKVZmsu0\n",
              "29                  [B대면데이트]#4 네번째 대면데이트 차진석/36/중고차딜러  YsCgtZIbjRw\n",
              "30                     [B대면데이트]#5 다섯번째 데이트 방재호/34/다단계  1_-fQlTEFNQ\n",
              "31             [4K][최준의니곡내곡] 최준 - 너를 만나(feat.폴킴) LIVE  o4hOtLBOJwA\n",
              "32       [단독]괴한 진압한 시민 영웅, 알고보니... 이호창 본부장 | PSN News  A_sZwaiVnIw\n",
              "33                [B대면데이트]#5 다섯번째 식사데이트 임플란티드키드/24/래퍼  rOxijOeJeQg\n",
              "34                    [B대면데이트]#3. 세번째 데이트 이호창/34/재벌3세  Q-0WWlNL5pw\n",
              "35  [4K][최준의니곡내곡] 최준 - 어떻게 이별까지 사랑하겠어,널 사랑하는 거지(fe...  _vU28jNLQ-8\n",
              "36                   [B대면데이트]#5 다섯번째 식사데이트 최준/35/카페사장  bv5RH8JedBw\n",
              "37                     [B대면데이트]#6 여섯번째 데이트 방재호/34/다단계  7eFzVmJdoA0"
            ]
          },
          "metadata": {
            "tags": []
          },
          "execution_count": 6
        }
      ]
    },
    {
      "cell_type": "code",
      "metadata": {
        "colab": {
          "base_uri": "https://localhost:8080/"
        },
        "id": "UIGu22w6avng",
        "outputId": "f9033c9a-f860-4a55-d762-047543251877"
      },
      "source": [
        "comments = list()\n",
        "try:\n",
        "  for i in tqdm(range(len(df_videolists))):\n",
        "    title = df_videolists.iloc[i]['title']\n",
        "    link = df_videolists.iloc[i]['link']\n",
        "    if '[B대면데이트]#' in title:\n",
        "      comment_search = yt.commentThreads().list(\n",
        "          part='snippet, replies',\n",
        "          videoId = link,\n",
        "          maxResults=100\n",
        "      ).execute()\n",
        "    else:\n",
        "      continue\n",
        "    while 'nextPageToken' in comment_search.keys():\n",
        "      for search in comment_search['items']:\n",
        "        author = search['snippet']['topLevelComment']['snippet']['authorDisplayName']\n",
        "        comment = search['snippet']['topLevelComment']['snippet']['textDisplay']\n",
        "        like = search['snippet']['topLevelComment']['snippet']['likeCount']\n",
        "        comments.append([title, author, comment, like])\n",
        "\n",
        "      if 'nextPageToken' in comment_search.keys():\n",
        "        comment_search = yt.commentThreads().list(\n",
        "            part='snippet, replies',\n",
        "            videoId = link,\n",
        "            pageToken = comment_search['nextPageToken'],\n",
        "            maxResults=100\n",
        "        ).execute()\n",
        "\n",
        "except HttpError as err:\n",
        "  # If the error is a rate limit or connection error,\n",
        "  # wait and try again.\n",
        "  if err.resp.status in [403, 500, 503]:\n",
        "    time.sleep(5)\n",
        "  else:\n",
        "    raise"
      ],
      "execution_count": null,
      "outputs": [
        {
          "output_type": "stream",
          "text": [
            "100%|██████████| 38/38 [04:21<00:00,  6.87s/it]\n"
          ],
          "name": "stderr"
        }
      ]
    },
    {
      "cell_type": "code",
      "metadata": {
        "id": "IGlWDKgRxjlG"
      },
      "source": [
        "df_comments = pd.DataFrame(comments)\n",
        "df_comments.columns = ['title', 'author', 'comment', 'like']\n",
        "df_comments['comment'] = df_comments['comment'].str.replace('\\r', '')"
      ],
      "execution_count": null,
      "outputs": []
    },
    {
      "cell_type": "code",
      "metadata": {
        "colab": {
          "base_uri": "https://localhost:8080/",
          "height": 402
        },
        "id": "PyPDRX8bueQp",
        "outputId": "b4dc3f17-a273-4a59-c545-c016096e056c"
      },
      "source": [
        "df_comments"
      ],
      "execution_count": null,
      "outputs": [
        {
          "output_type": "execute_result",
          "data": {
            "text/html": [
              "<div>\n",
              "<style scoped>\n",
              "    .dataframe tbody tr th:only-of-type {\n",
              "        vertical-align: middle;\n",
              "    }\n",
              "\n",
              "    .dataframe tbody tr th {\n",
              "        vertical-align: top;\n",
              "    }\n",
              "\n",
              "    .dataframe thead th {\n",
              "        text-align: right;\n",
              "    }\n",
              "</style>\n",
              "<table border=\"1\" class=\"dataframe\">\n",
              "  <thead>\n",
              "    <tr style=\"text-align: right;\">\n",
              "      <th></th>\n",
              "      <th>title</th>\n",
              "      <th>author</th>\n",
              "      <th>comment</th>\n",
              "      <th>like</th>\n",
              "    </tr>\n",
              "  </thead>\n",
              "  <tbody>\n",
              "    <tr>\n",
              "      <th>0</th>\n",
              "      <td>[B대면데이트]#1. 첫번째 데이트 방재호/33/다단계</td>\n",
              "      <td>피식대학Psick Univ</td>\n",
              "      <td>B대면데이트 첫번째 소개팅남&lt;br /&gt;방재호 instagram@BJH_Dreamlife</td>\n",
              "      <td>592</td>\n",
              "    </tr>\n",
              "    <tr>\n",
              "      <th>1</th>\n",
              "      <td>[B대면데이트]#1. 첫번째 데이트 방재호/33/다단계</td>\n",
              "      <td>으앙</td>\n",
              "      <td>처음만났는데 대체 제얘기는 언제해요.... ㅜㅜ</td>\n",
              "      <td>0</td>\n",
              "    </tr>\n",
              "    <tr>\n",
              "      <th>2</th>\n",
              "      <td>[B대면데이트]#1. 첫번째 데이트 방재호/33/다단계</td>\n",
              "      <td>Do it</td>\n",
              "      <td>광용샘....</td>\n",
              "      <td>0</td>\n",
              "    </tr>\n",
              "    <tr>\n",
              "      <th>3</th>\n",
              "      <td>[B대면데이트]#1. 첫번째 데이트 방재호/33/다단계</td>\n",
              "      <td>말랑말랑</td>\n",
              "      <td>저 이마의 끝이 어딜까...</td>\n",
              "      <td>1</td>\n",
              "    </tr>\n",
              "    <tr>\n",
              "      <th>4</th>\n",
              "      <td>[B대면데이트]#1. 첫번째 데이트 방재호/33/다단계</td>\n",
              "      <td>진성</td>\n",
              "      <td>근데 피부는 진짜 나쁘지 않ㄴ네</td>\n",
              "      <td>0</td>\n",
              "    </tr>\n",
              "    <tr>\n",
              "      <th>...</th>\n",
              "      <td>...</td>\n",
              "      <td>...</td>\n",
              "      <td>...</td>\n",
              "      <td>...</td>\n",
              "    </tr>\n",
              "    <tr>\n",
              "      <th>64395</th>\n",
              "      <td>[B대면데이트]#6 여섯번째 데이트 방재호/34/다단계</td>\n",
              "      <td>배고파</td>\n",
              "      <td>오마이갓 썸네일 보고 기절함.,</td>\n",
              "      <td>0</td>\n",
              "    </tr>\n",
              "    <tr>\n",
              "      <th>64396</th>\n",
              "      <td>[B대면데이트]#6 여섯번째 데이트 방재호/34/다단계</td>\n",
              "      <td>강해수</td>\n",
              "      <td>썸네일 개웃기네</td>\n",
              "      <td>0</td>\n",
              "    </tr>\n",
              "    <tr>\n",
              "      <th>64397</th>\n",
              "      <td>[B대면데이트]#6 여섯번째 데이트 방재호/34/다단계</td>\n",
              "      <td>양멀봐</td>\n",
              "      <td>잇 실사판인줄</td>\n",
              "      <td>1</td>\n",
              "    </tr>\n",
              "    <tr>\n",
              "      <th>64398</th>\n",
              "      <td>[B대면데이트]#6 여섯번째 데이트 방재호/34/다단계</td>\n",
              "      <td>인스카</td>\n",
              "      <td>방재호는...&lt;br /&gt;&lt;br /&gt;혁이보다 옷잘입는다..&lt;br /&gt;혁이처럼 양아치도...</td>\n",
              "      <td>17</td>\n",
              "    </tr>\n",
              "    <tr>\n",
              "      <th>64399</th>\n",
              "      <td>[B대면데이트]#6 여섯번째 데이트 방재호/34/다단계</td>\n",
              "      <td>도리도리</td>\n",
              "      <td>방재호씨 스킨좀 발라요</td>\n",
              "      <td>0</td>\n",
              "    </tr>\n",
              "  </tbody>\n",
              "</table>\n",
              "<p>64400 rows × 4 columns</p>\n",
              "</div>"
            ],
            "text/plain": [
              "                                title  ... like\n",
              "0      [B대면데이트]#1. 첫번째 데이트 방재호/33/다단계  ...  592\n",
              "1      [B대면데이트]#1. 첫번째 데이트 방재호/33/다단계  ...    0\n",
              "2      [B대면데이트]#1. 첫번째 데이트 방재호/33/다단계  ...    0\n",
              "3      [B대면데이트]#1. 첫번째 데이트 방재호/33/다단계  ...    1\n",
              "4      [B대면데이트]#1. 첫번째 데이트 방재호/33/다단계  ...    0\n",
              "...                               ...  ...  ...\n",
              "64395  [B대면데이트]#6 여섯번째 데이트 방재호/34/다단계  ...    0\n",
              "64396  [B대면데이트]#6 여섯번째 데이트 방재호/34/다단계  ...    0\n",
              "64397  [B대면데이트]#6 여섯번째 데이트 방재호/34/다단계  ...    1\n",
              "64398  [B대면데이트]#6 여섯번째 데이트 방재호/34/다단계  ...   17\n",
              "64399  [B대면데이트]#6 여섯번째 데이트 방재호/34/다단계  ...    0\n",
              "\n",
              "[64400 rows x 4 columns]"
            ]
          },
          "metadata": {
            "tags": []
          },
          "execution_count": 10
        }
      ]
    },
    {
      "cell_type": "code",
      "metadata": {
        "id": "CyJ9dt10ufpq"
      },
      "source": [
        "df_comments.to_pickle('commentList.pickle')"
      ],
      "execution_count": null,
      "outputs": []
    },
    {
      "cell_type": "code",
      "metadata": {
        "id": "bi0Ccuj3wNSy"
      },
      "source": [
        "df_comments.to_csv('commentList.csv', encoding='utf-8-sig')"
      ],
      "execution_count": null,
      "outputs": []
    },
    {
      "cell_type": "code",
      "metadata": {
        "id": "Scu09X-YFEGD"
      },
      "source": [
        "df_comments = pd.read_pickle('/content/commentList.pickle')"
      ],
      "execution_count": null,
      "outputs": []
    }
  ]
}